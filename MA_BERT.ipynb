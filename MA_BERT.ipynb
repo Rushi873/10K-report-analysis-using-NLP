{
 "cells": [
  {
   "cell_type": "code",
   "execution_count": 1,
   "id": "19619a17-1e14-4556-a10f-e2b65010c5f9",
   "metadata": {},
   "outputs": [],
   "source": [
    "import os\n",
    "from transformers import BertTokenizer, BertForSequenceClassification, AdamW\n",
    "from transformers import BertTokenizer, BertForQuestionAnswering\n",
    "import torch"
   ]
  },
  {
   "cell_type": "code",
   "execution_count": 2,
   "id": "5fa6a5a3-2496-41cc-a846-da2fcc17c9dd",
   "metadata": {},
   "outputs": [],
   "source": [
    "# Step 1: Preprocess the text data\n",
    "def preprocess_text(file_path):\n",
    "    with open(file_path, 'r') as file:\n",
    "        text = file.read()\n",
    "    # Additional preprocessing steps can be added here if needed\n",
    "    return text"
   ]
  },
  {
   "cell_type": "code",
   "execution_count": 3,
   "id": "5ae53011-1558-4ca6-88dd-2af19753f445",
   "metadata": {},
   "outputs": [],
   "source": [
    "# Step 2: Fine-tune a BERT model on the preprocessed data\n",
    "def fine_tune_bert(file_path):\n",
    "    text = preprocess_text(file_path)\n",
    "    tokenizer = BertTokenizer.from_pretrained('bert-base-uncased')\n",
    "    model = BertForSequenceClassification.from_pretrained('bert-base-uncased', num_labels=2)\n",
    "\n",
    "    # Tokenize the text\n",
    "    inputs = tokenizer(text, return_tensors=\"pt\", max_length=512, truncation=True, padding=True)\n",
    "\n",
    "    # Example: Fine-tuning BERT for classification\n",
    "    labels = torch.tensor([1]).unsqueeze(0)  # Assuming binary classification with a single label\n",
    "    optimizer = torch.optim.AdamW(model.parameters(), lr=1e-5)  # Use PyTorch AdamW optimizer\n",
    "\n",
    "    for _ in range(3):  # Train for 3 epochs (you can adjust the number of epochs)\n",
    "        outputs = model(**inputs, labels=labels)\n",
    "        loss = outputs.loss\n",
    "        loss.backward()\n",
    "        optimizer.step()\n",
    "        optimizer.zero_grad()\n",
    "\n",
    "    return model"
   ]
  },
  {
   "cell_type": "code",
   "execution_count": 4,
   "id": "4bd9ba62-8dc7-40e4-86e4-2e0a9f5d523d",
   "metadata": {},
   "outputs": [],
   "source": [
    "# Step 4: Fine-tune a BERT model for question answering\n",
    "def fine_tune_bert_qa():\n",
    "    qa_model = BertForQuestionAnswering.from_pretrained('bert-large-uncased-whole-word-masking-finetuned-squad')\n",
    "    return qa_model"
   ]
  },
  {
   "cell_type": "code",
   "execution_count": 5,
   "id": "dfabe01e-33b2-48ec-aebf-d5a348d5cd2a",
   "metadata": {},
   "outputs": [],
   "source": [
    "# Step 5: Split text into smaller chunks and perform question-answering\n",
    "def perform_qa_on_chunks(qa_model, text):\n",
    "    max_chunk_length = 512\n",
    "    chunks = [text[i:i+max_chunk_length] for i in range(0, len(text), max_chunk_length)]\n",
    "    answers = []\n",
    "\n",
    "    for i, chunk in enumerate(chunks):\n",
    "        # Tokenize the chunk\n",
    "        inputs = tokenizer(chunk, return_tensors=\"pt\", max_length=max_chunk_length, truncation=True)\n",
    "\n",
    "        # Perform question-answering task\n",
    "        with torch.no_grad():\n",
    "            outputs = qa_model(**inputs)\n",
    "\n",
    "        # Process outputs\n",
    "        answer_start_scores = outputs.start_logits\n",
    "        answer_end_scores = outputs.end_logits\n",
    "\n",
    "        # Get the most likely answer\n",
    "        answer_start = torch.argmax(answer_start_scores)\n",
    "        answer_end = torch.argmax(answer_end_scores) + 1\n",
    "        answer = tokenizer.convert_tokens_to_string(tokenizer.convert_ids_to_tokens(inputs[\"input_ids\"][0][answer_start:answer_end]))\n",
    "        answers.append(answer)\n",
    "\n",
    "    return answers"
   ]
  },
  {
   "cell_type": "code",
   "execution_count": 6,
   "id": "71460287-ca79-4507-94e8-29db1fa9fd2f",
   "metadata": {},
   "outputs": [
    {
     "name": "stderr",
     "output_type": "stream",
     "text": [
      "Some weights of BertForSequenceClassification were not initialized from the model checkpoint at bert-base-uncased and are newly initialized: ['classifier.bias', 'classifier.weight']\n",
      "You should probably TRAIN this model on a down-stream task to be able to use it for predictions and inference.\n",
      "Some weights of BertForSequenceClassification were not initialized from the model checkpoint at bert-base-uncased and are newly initialized: ['classifier.bias', 'classifier.weight']\n",
      "You should probably TRAIN this model on a down-stream task to be able to use it for predictions and inference.\n",
      "Some weights of BertForSequenceClassification were not initialized from the model checkpoint at bert-base-uncased and are newly initialized: ['classifier.bias', 'classifier.weight']\n",
      "You should probably TRAIN this model on a down-stream task to be able to use it for predictions and inference.\n",
      "Some weights of BertForSequenceClassification were not initialized from the model checkpoint at bert-base-uncased and are newly initialized: ['classifier.bias', 'classifier.weight']\n",
      "You should probably TRAIN this model on a down-stream task to be able to use it for predictions and inference.\n",
      "Some weights of BertForSequenceClassification were not initialized from the model checkpoint at bert-base-uncased and are newly initialized: ['classifier.bias', 'classifier.weight']\n",
      "You should probably TRAIN this model on a down-stream task to be able to use it for predictions and inference.\n",
      "Some weights of BertForSequenceClassification were not initialized from the model checkpoint at bert-base-uncased and are newly initialized: ['classifier.bias', 'classifier.weight']\n",
      "You should probably TRAIN this model on a down-stream task to be able to use it for predictions and inference.\n",
      "Some weights of BertForSequenceClassification were not initialized from the model checkpoint at bert-base-uncased and are newly initialized: ['classifier.bias', 'classifier.weight']\n",
      "You should probably TRAIN this model on a down-stream task to be able to use it for predictions and inference.\n",
      "Some weights of BertForSequenceClassification were not initialized from the model checkpoint at bert-base-uncased and are newly initialized: ['classifier.bias', 'classifier.weight']\n",
      "You should probably TRAIN this model on a down-stream task to be able to use it for predictions and inference.\n"
     ]
    }
   ],
   "source": [
    "# Fine-tune BERT models for classification on each file\n",
    "directory = \"D:/Fintech_lab/MA\"\n",
    "classification_models = []\n",
    "for filename in os.listdir(directory):\n",
    "    if filename.endswith(\".txt\"):\n",
    "        file_path = os.path.join(directory, filename)\n",
    "        model = fine_tune_bert(file_path)\n",
    "        classification_models.append(model)"
   ]
  },
  {
   "cell_type": "code",
   "execution_count": 7,
   "id": "f32b2236-b87d-4842-a42f-a593ace7c638",
   "metadata": {},
   "outputs": [
    {
     "name": "stderr",
     "output_type": "stream",
     "text": [
      "Some weights of the model checkpoint at bert-large-uncased-whole-word-masking-finetuned-squad were not used when initializing BertForQuestionAnswering: ['bert.pooler.dense.bias', 'bert.pooler.dense.weight']\n",
      "- This IS expected if you are initializing BertForQuestionAnswering from the checkpoint of a model trained on another task or with another architecture (e.g. initializing a BertForSequenceClassification model from a BertForPreTraining model).\n",
      "- This IS NOT expected if you are initializing BertForQuestionAnswering from the checkpoint of a model that you expect to be exactly identical (initializing a BertForSequenceClassification model from a BertForSequenceClassification model).\n"
     ]
    }
   ],
   "source": [
    "# Fine-tune BERT model for question answering\n",
    "qa_model = fine_tune_bert_qa()\n",
    "tokenizer = BertTokenizer.from_pretrained('bert-large-uncased-whole-word-masking-finetuned-squad')\n"
   ]
  },
  {
   "cell_type": "code",
   "execution_count": 11,
   "id": "6abfe878-463f-43e6-aa71-12af55308927",
   "metadata": {},
   "outputs": [
    {
     "name": "stderr",
     "output_type": "stream",
     "text": [
      "Be aware, overflowing tokens are not returned for the setting you have chosen, i.e. sequence pairs with the 'longest_first' truncation strategy. So the returned list will always be empty even if some tokens have been removed.\n"
     ]
    },
    {
     "name": "stdout",
     "output_type": "stream",
     "text": [
      "File: 20161231.txt\n",
      "Question: What is business about?\n",
      "Answer: mastercard is a technology company in the global payments industry that connects consumers , financial institutions , merchants , governments and businesses worldwide , enabling them to use electronic forms of payment instead of cash and checks . as the operator of what we believe is the world & # 8217 ; s fastest payments network , we facilitate the switching ( authorization , clearing and settlement ) of payment transactions and deliver related products and services . we make payments easier and more efficient by creating a wide range of payment solutions and services using our family of well - known brands , including mastercard & # 174 ; , maestro & # 174 ; and cirrus & # 174 ; . we also provide value - added offerings such as safety and security products , information services and consulting , issuer and acquirer processing and loyalty and reward programs . our network is designed to ensure safety and security for the global payments system . a typical transaction on our network involves four participants in addition to us : cardholder ( an individual who holds a card or uses another device enabled for payment ) , merchant , issuer ( the cardholder & # 8217 ; s financial institution ) and acquirer ( the merchant & # 8217 ; s financial institution ) . we do not issue cards , extend credit , determine or receive revenue from interest rates or other fees charged to cardholders by issuers , or establish the rates charged by acquirers in connection with merchants & # 8217 ; acceptance of our branded cards . in most cases , cardholder relationships belong to , and are managed by , our financial institution customers . we generate revenue by charging fees to issuers , acquirers and other stakeholders for providing transaction processing and other payment - related products and services , as well as by assessing customers based primarily on the dollar volume of activity , or gross dollar volume ( & # 8220 ; gdv & # 8221 ; ) , on the cards and other devices that carry our brands . our strategy our ability to grow our business is influenced by personal consumption expenditure growth , driving cash and check transactions toward electronic forms of payment , increasing our share in electronic payments and providing value - added products and services . we achieve our strategy by growing , diversifying and building our business . grow . & # 32 ; & # 32 ; we focus on growing our core businesses globally , including growing our consumer credit , debit , prepaid and commercial products and solutions , increasing the number of payment transactions we switch . diversify . & # 32 ; [SEP]\n"
     ]
    },
    {
     "name": "stderr",
     "output_type": "stream",
     "text": [
      "Be aware, overflowing tokens are not returned for the setting you have chosen, i.e. sequence pairs with the 'longest_first' truncation strategy. So the returned list will always be empty even if some tokens have been removed.\n"
     ]
    },
    {
     "name": "stdout",
     "output_type": "stream",
     "text": [
      "File: 20171231.txt\n",
      "Question: What is business about?\n",
      "Answer: mastercard is a technology company in the global payments industry\n"
     ]
    },
    {
     "name": "stderr",
     "output_type": "stream",
     "text": [
      "Be aware, overflowing tokens are not returned for the setting you have chosen, i.e. sequence pairs with the 'longest_first' truncation strategy. So the returned list will always be empty even if some tokens have been removed.\n"
     ]
    },
    {
     "name": "stdout",
     "output_type": "stream",
     "text": [
      "File: 20181231.txt\n",
      "Question: What is business about?\n",
      "Answer: mastercard is a technology company in the global payments industry\n"
     ]
    },
    {
     "name": "stderr",
     "output_type": "stream",
     "text": [
      "Be aware, overflowing tokens are not returned for the setting you have chosen, i.e. sequence pairs with the 'longest_first' truncation strategy. So the returned list will always be empty even if some tokens have been removed.\n"
     ]
    },
    {
     "name": "stdout",
     "output_type": "stream",
     "text": [
      "File: 20191231.txt\n",
      "Question: What is business about?\n",
      "Answer: \n"
     ]
    },
    {
     "name": "stderr",
     "output_type": "stream",
     "text": [
      "Be aware, overflowing tokens are not returned for the setting you have chosen, i.e. sequence pairs with the 'longest_first' truncation strategy. So the returned list will always be empty even if some tokens have been removed.\n"
     ]
    },
    {
     "name": "stdout",
     "output_type": "stream",
     "text": [
      "File: 20201231.txt\n",
      "Question: What is business about?\n",
      "Answer: mastercard is a technology company in the global payments industry\n"
     ]
    },
    {
     "name": "stderr",
     "output_type": "stream",
     "text": [
      "Be aware, overflowing tokens are not returned for the setting you have chosen, i.e. sequence pairs with the 'longest_first' truncation strategy. So the returned list will always be empty even if some tokens have been removed.\n"
     ]
    },
    {
     "name": "stdout",
     "output_type": "stream",
     "text": [
      "File: 20211231.txt\n",
      "Question: What is business about?\n",
      "Answer: \n"
     ]
    },
    {
     "name": "stderr",
     "output_type": "stream",
     "text": [
      "Be aware, overflowing tokens are not returned for the setting you have chosen, i.e. sequence pairs with the 'longest_first' truncation strategy. So the returned list will always be empty even if some tokens have been removed.\n"
     ]
    },
    {
     "name": "stdout",
     "output_type": "stream",
     "text": [
      "File: 20221231.txt\n",
      "Question: What is business about?\n",
      "Answer: mastercard is a technology company in the global payments industry\n"
     ]
    },
    {
     "name": "stderr",
     "output_type": "stream",
     "text": [
      "Be aware, overflowing tokens are not returned for the setting you have chosen, i.e. sequence pairs with the 'longest_first' truncation strategy. So the returned list will always be empty even if some tokens have been removed.\n"
     ]
    },
    {
     "name": "stdout",
     "output_type": "stream",
     "text": [
      "File: 20231231.txt\n",
      "Question: What is business about?\n",
      "Answer: mastercard is a technology company in the global payments industry\n"
     ]
    }
   ],
   "source": [
    "# Define your question\n",
    "question = \"What is business about?\"\n",
    "\n",
    "# Perform question answering on each file\n",
    "for filename in os.listdir(directory):\n",
    "    if filename.endswith(\".txt\"):\n",
    "        file_path = os.path.join(directory, filename)\n",
    "        text = preprocess_text(file_path)\n",
    "        inputs = tokenizer(question, text, return_tensors=\"pt\", max_length=512, truncation=True)\n",
    "        \n",
    "        # Perform question-answering task\n",
    "        with torch.no_grad():\n",
    "            outputs = qa_model(**inputs)\n",
    "\n",
    "        # Process outputs\n",
    "        answer_start_scores = outputs.start_logits\n",
    "        answer_end_scores = outputs.end_logits\n",
    "\n",
    "        # Get the most probable answer\n",
    "        answer_start = torch.argmax(answer_start_scores)\n",
    "        answer_end = torch.argmax(answer_end_scores) + 1\n",
    "        answer = tokenizer.convert_tokens_to_string(tokenizer.convert_ids_to_tokens(inputs[\"input_ids\"][0][answer_start:answer_end]))\n",
    "\n",
    "        print(\"File:\", filename)\n",
    "        print(\"Question:\", question)\n",
    "        print(\"Answer:\", answer)\n"
   ]
  },
  {
   "cell_type": "code",
   "execution_count": null,
   "id": "fc02cfc1-90f8-43f3-ac41-830f75e7d1db",
   "metadata": {},
   "outputs": [],
   "source": []
  }
 ],
 "metadata": {
  "kernelspec": {
   "display_name": "Python 3 (ipykernel)",
   "language": "python",
   "name": "python3"
  },
  "language_info": {
   "codemirror_mode": {
    "name": "ipython",
    "version": 3
   },
   "file_extension": ".py",
   "mimetype": "text/x-python",
   "name": "python",
   "nbconvert_exporter": "python",
   "pygments_lexer": "ipython3",
   "version": "3.11.8"
  }
 },
 "nbformat": 4,
 "nbformat_minor": 5
}
